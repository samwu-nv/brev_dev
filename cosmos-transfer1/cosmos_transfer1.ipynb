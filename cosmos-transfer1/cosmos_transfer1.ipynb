{
 "cells": [
  {
   "attachments": {},
   "cell_type": "markdown",
   "id": "19f3c6ae-ccb5-4074-9407-84b455ecbb79",
   "metadata": {},
   "source": [
    "![Cosmos-Transfer1-7B](cosmos-transfer1_banner.png)\n",
    "\n",
    "**Cosmos-Transfer1** is a multimodal world-to-world (W2W) generation model from the Cosmos WFM series. It allows controllable visual generation using inputs like segmentation, depth, canny edge, and blur, with adaptive spatiotemporal control. This notebook showcases how to use Cosmos-Transfer1-7B for flexible and coherent visual transformations.\n",
    "\n",
    "The following steps are based on [Github: Cosmos-Transfer1-7B](https://github.com/nvidia-cosmos/cosmos-transfer1/blob/main/examples/inference_cosmos_transfer1_7b.md)\n",
    "- Tested Spec:\n",
    "    - GitHub Commit: ed9ab808fb1c4fab04a14ecd7fbccb3e757bd92e\n",
    "    - GPU: Crusoe L40S\n",
    "    - VRAM: 48GiB\n",
    "    - GPU Driver: 535.183.06 (CUDA 12.2)"
   ]
  },
  {
   "attachments": {},
   "cell_type": "markdown",
   "id": "845753cc",
   "metadata": {},
   "source": [
    "### Setup Environment and Dependencies\n",
    "---\n",
    "Execute the following commands in a terminal. To open a terminal: Launcher tab -> Other -> Terminal\n",
    "\n",
    "```bash\n",
    "# Install uv package manager\n",
    "curl -LsSf https://astral.sh/uv/install.sh | sh\n",
    "source $HOME/.local/bin/env\n",
    "\n",
    "# Login your Huggingface account to download checkpoints later\n",
    "# Get your access token here: https://huggingface.co/settings/tokens\n",
    "uv tool install -U \"huggingface_hub[cli]\"\n",
    "hf auth login\n",
    "\n",
    "# Create a python virtual environment and install dependencies to pull data\n",
    "uv venv\n",
    "source .venv/bin/activate\n",
    "uv pip install loguru\n",
    "uv pip install torch\n",
    "uv pip install huggingface_hub\n",
    "uv pip install ipykernel\n",
    "uv pip install ipywidgets\n",
    "\n",
    "# Create a pyhton kernel for the notebook\n",
    "python -m ipykernel install --user --name=transfer1 --display-name \"Python (.venv) Transfer1\"\n",
    "```"
   ]
  },
  {
   "cell_type": "markdown",
   "id": "2be7cede-a384-40c5-b34f-5ad7f7340aaa",
   "metadata": {},
   "source": [
    "### Switch to the Custom Python Kernel\n",
    "---\n",
    "1. Go back to the notebook: *cosmos-transfer1.ipynb*\n",
    "2. click on the **Python3(ipykernel)** on upper-right corner\n",
    "3. Pick **Python(.venv)Transfer1** in *Start python Kernel* section, then click Select button. (If you don't see the option, try restaring the notebook.)\n",
    "4. The upper-right kernel button should be updated to *Python(.venv)Transfer1*"
   ]
  },
  {
   "cell_type": "markdown",
   "id": "42791d9f",
   "metadata": {},
   "source": [
    "### Create Workspace\n",
    "---\n",
    "Make sure you have at least 360 GB of free disk space to store data. The following code is for the Crusoe instance use case, you can simply create a /workspace directory if you're not using Crusoe."
   ]
  },
  {
   "cell_type": "code",
   "execution_count": null,
   "id": "51643d1d-481f-48ba-ade2-0564e5206ad8",
   "metadata": {},
   "outputs": [],
   "source": [
    "%%bash\n",
    "\n",
    "# Ensure the target directory exists\n",
    "mkdir -p /ephemeral/workspace\n",
    "# Create the symlink only if it doesn't already exist\n",
    "[ -L ~/workspace ] || ln -s /ephemeral/workspace ~/workspace"
   ]
  },
  {
   "cell_type": "markdown",
   "id": "49e89eb8-19aa-4907-a77c-2d07f6da23e7",
   "metadata": {},
   "source": [
    "### Clone GitHub Repository Which Contains Sample Scripts and Dataset\n",
    "---"
   ]
  },
  {
   "cell_type": "code",
   "execution_count": null,
   "id": "5fad00c8",
   "metadata": {},
   "outputs": [],
   "source": [
    "%%bash\n",
    "\n",
    "cd ~/workspace\n",
    "# Clone the repository\n",
    "git clone https://github.com/nvidia-cosmos/cosmos-transfer1.git\n",
    "# Switch to the tested commit\n",
    "cd cosmos-transfer1\n",
    "git fetch\n",
    "git checkout ed9ab808fb1c4fab04a14ecd7fbccb3e757bd92e"
   ]
  },
  {
   "cell_type": "markdown",
   "id": "2321343a-014c-4866-bd69-7324017739ea",
   "metadata": {},
   "source": [
    "### Download Model Weights\n",
    "---\n",
    "It takes a while to download 360+ GB data from HuggingFace."
   ]
  },
  {
   "cell_type": "code",
   "execution_count": null,
   "id": "56a1c246",
   "metadata": {
    "scrolled": true
   },
   "outputs": [],
   "source": [
    "# Pull model weights from Huggingface\n",
    "import os\n",
    "import sys\n",
    "\n",
    "project_root = os.path.abspath(\"workspace/cosmos-transfer1\")\n",
    "download_script = \"workspace/cosmos-transfer1/scripts/download_checkpoints.py\"\n",
    "checkpoint_dir = \"workspace/checkpoints/\"\n",
    "\n",
    "!PYTHONPATH={project_root} {sys.executable} {download_script} --output_dir {checkpoint_dir}"
   ]
  },
  {
   "cell_type": "code",
   "execution_count": null,
   "id": "c5980b55-a71a-4dde-a2a3-44f0f25b9663",
   "metadata": {
    "scrolled": true
   },
   "outputs": [],
   "source": [
    "# You should see /ephemera took 363GB, 82% of the disk space\n",
    "!df -h"
   ]
  },
  {
   "cell_type": "markdown",
   "id": "c0432b55-ef78-4b6d-ac2b-31fced6f92a1",
   "metadata": {},
   "source": [
    "### Pull Docker Image\n",
    "---\n",
    "You should the following message after docker image downloaded.\n",
    "```\n",
    "Status: Downloaded newer image for ...\n",
    "```"
   ]
  },
  {
   "cell_type": "code",
   "execution_count": null,
   "id": "1e7461ec",
   "metadata": {
    "scrolled": true
   },
   "outputs": [],
   "source": [
    "%%bash\n",
    "\n",
    "# Setup docker config, REPLACE <you key> with your NGC Key\n",
    "export NGC_CLI_API_KEY=<your Key>\n",
    "echo \"$NGC_CLI_API_KEY\" | docker login nvcr.io --username '$oauthtoken' --password-stdin\n",
    "\n",
    "# Note: This is temporary, there should be a public Docker registry in the future.\n",
    "# For now, you can use either of them:\n",
    "# 1. nvcr.io/nvidian/cosmos-transfer1:pytorch-25-04_v2@sha256:b5dd417cf4b5be0377e9e4ebc78564540ce7b27d2a4cf67c0dfe3d81088bdaf8\n",
    "# 2. nvcr.io/0589085444718644/cosmos/cosmos-transfer1:0.1 (contact samwu@nvidia.com for this one)\n",
    "docker pull <docker image register>"
   ]
  },
  {
   "cell_type": "markdown",
   "id": "8a8c062c-b710-4caf-bf69-4a93aa0d0300",
   "metadata": {},
   "source": [
    "### Spin Up the Cosmos-Transfer1 Container\n",
    "---"
   ]
  },
  {
   "cell_type": "code",
   "execution_count": null,
   "id": "3ce0c376-ea02-476e-8169-e164591d813a",
   "metadata": {},
   "outputs": [],
   "source": [
    "!docker run --gpus all -d --name cosmos-transfer1 \\\n",
    "    -v ./workspace/cosmos-transfer1:/workspace \\\n",
    "    -v ./workspace/cosmos-transfer1/assets:/workspace/datasets \\\n",
    "    -v ./workspace/checkpoints:/workspace/checkpoints \\\n",
    "    nvcr.io/0589085444718644/cosmos/cosmos-transfer1:0.1 tail -f /dev/null"
   ]
  },
  {
   "cell_type": "code",
   "execution_count": null,
   "id": "36a6d382-0ae2-4165-8a6e-01f71ab06cda",
   "metadata": {},
   "outputs": [],
   "source": [
    "!docker ps -a"
   ]
  },
  {
   "cell_type": "code",
   "execution_count": null,
   "id": "0de685fd-0c98-4bc5-8a9e-38e15e9874de",
   "metadata": {},
   "outputs": [],
   "source": [
    "# Sanity check if the environment setup is successful\n",
    "!docker exec cosmos-transfer1 python scripts/test_environment.py"
   ]
  },
  {
   "cell_type": "markdown",
   "id": "55b7c8ee-0cad-452c-9f46-e0484d611d4d",
   "metadata": {},
   "source": [
    "### Use Case #1: Single Control (Edge)\n",
    "---\n",
    "- VRAM Used: ~30 GB\n",
    "- Inference Time:\n",
    "    - ~20 minutes (A100 x 1)\n",
    "    - ~18 minutes (L40S x 1)\n",
    "\n",
    "You should see this message in the end of the log:\n",
    "```\n",
    "[08-05 12:47:18|INFO|cosmos_transfer1/diffusion/inference/transfer.py:396:demo] Saved video to outputs/example1_single_control_edge/output.mp4\n",
    "[08-05 12:47:18|INFO|cosmos_transfer1/diffusion/inference/transfer.py:397:demo] Saved prompt to outputs/example1_single_control_edge/output.txt\n",
    "```"
   ]
  },
  {
   "cell_type": "code",
   "execution_count": null,
   "id": "0faed045-d2b3-4f22-af35-556a5f40be8f",
   "metadata": {
    "scrolled": true
   },
   "outputs": [],
   "source": [
    "%%bash\n",
    "\n",
    "docker exec cosmos-transfer1 bash -c \"\n",
    "export CUDA_VISIBLE_DEVICES=\\${CUDA_VISIBLE_DEVICES:=0}\n",
    "export CHECKPOINT_DIR=\\${CHECKPOINT_DIR:=./checkpoints}\n",
    "export NUM_GPU=\\${NUM_GPU:=1}\n",
    "export PYTHONPATH=/workspace\n",
    "torchrun --nproc_per_node=\\$NUM_GPU --nnodes=1 --node_rank=0 /workspace/cosmos_transfer1/diffusion/inference/transfer.py \\\n",
    "    --checkpoint_dir \\$CHECKPOINT_DIR \\\n",
    "    --video_save_folder outputs/example1_single_control_edge \\\n",
    "    --controlnet_specs assets/inference_cosmos_transfer1_single_control_edge.json \\\n",
    "    --offload_text_encoder_model \\\n",
    "    --offload_guardrail_models \\\n",
    "    --num_gpus \\$NUM_GPU\n",
    "\""
   ]
  },
  {
   "cell_type": "markdown",
   "id": "da9e36b4-6a7a-4d5f-9f05-2b9fef663867",
   "metadata": {},
   "source": [
    "### Use Case #1.1 Prompt Upsampler\n",
    "You can use our prompt upsampler to convert your short prompt into a longer, more detailed prompt for video generation by using the --upsample_prompt argument."
   ]
  },
  {
   "cell_type": "code",
   "execution_count": null,
   "id": "786a506c-37d9-40a0-9a77-e0b1c286c976",
   "metadata": {
    "scrolled": true
   },
   "outputs": [],
   "source": [
    "%%bash\n",
    "\n",
    "docker exec cosmos-transfer1 bash -c \"\n",
    "export CUDA_VISIBLE_DEVICES=\\${CUDA_VISIBLE_DEVICES:=0}\n",
    "export CHECKPOINT_DIR=\\${CHECKPOINT_DIR:=./checkpoints}\n",
    "export NUM_GPU=\\${NUM_GPU:=1}\n",
    "export PYTHONPATH=/workspace\n",
    "torchrun --nproc_per_node=\\$NUM_GPU --nnodes=1 --node_rank=0 /workspace/cosmos_transfer1/diffusion/inference/transfer.py \\\n",
    "    --checkpoint_dir \\$CHECKPOINT_DIR \\\n",
    "    --video_save_folder outputs/example1_single_control_edge_upsampled_prompt \\\n",
    "    --controlnet_specs assets/inference_cosmos_transfer1_single_control_edge_short_prompt.json \\\n",
    "    --offload_text_encoder_model \\\n",
    "    --upsample_prompt \\\n",
    "    --offload_prompt_upsampler \\\n",
    "    --offload_guardrail_models \\\n",
    "    --num_gpus \\$NUM_GPU\n",
    "\""
   ]
  },
  {
   "cell_type": "markdown",
   "id": "474ba331-85c5-44ee-bbcb-dff315a855fc",
   "metadata": {},
   "source": [
    "### Stop the Container\n",
    "---"
   ]
  },
  {
   "cell_type": "code",
   "execution_count": null,
   "id": "9c38bd68-a297-4068-b13c-e0e3bb254c82",
   "metadata": {},
   "outputs": [],
   "source": [
    "%%bash\n",
    "\n",
    "docker stop cosmos-transfer1\n",
    "docker rm cosmos-transfer1"
   ]
  },
  {
   "cell_type": "code",
   "execution_count": null,
   "id": "1b86ed21-973e-4e8c-a249-38e5f27abd45",
   "metadata": {},
   "outputs": [],
   "source": []
  }
 ],
 "metadata": {
  "kernelspec": {
   "display_name": "Python (.venv) Transfer1",
   "language": "python",
   "name": "transfer1"
  },
  "language_info": {
   "codemirror_mode": {
    "name": "ipython",
    "version": 3
   },
   "file_extension": ".py",
   "mimetype": "text/x-python",
   "name": "python",
   "nbconvert_exporter": "python",
   "pygments_lexer": "ipython3",
   "version": "3.10.12"
  }
 },
 "nbformat": 4,
 "nbformat_minor": 5
}
