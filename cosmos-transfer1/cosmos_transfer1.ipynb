{
 "cells": [
  {
   "attachments": {},
   "cell_type": "markdown",
   "id": "19f3c6ae-ccb5-4074-9407-84b455ecbb79",
   "metadata": {},
   "source": [
    "![Cosmos-Transfer1-7B](cosmos-transfer1_banner.png)\n",
    "\n",
    "**Cosmos-Transfer1** is a multimodal world-to-world (W2W) generation model from the Cosmos WFM series. It allows controllable visual generation using inputs like segmentation, depth, canny edge, and blur, with adaptive spatiotemporal control. This notebook showcases two samples to use Cosmos-Transfer1-7B for flexible and coherent visual transformations.\n",
    "\n",
    "- Tested Spec:\n",
    "    - GPU: Crusoe L40S\n",
    "    - VRAM: 48GiB\n",
    "    - GPU Driver: 535.183.06 (CUDA 12.2)\n",
    "- Prerequisites\n",
    "    - A valid Huggingface access token. You can get it from https://huggingface.co/settings/tokens\n",
    "    - Access the NGC **nvidian** org. You can apply for access in the Slack channel: *#swngc-help*\n",
    "\n",
    "The following steps are based on [Github: Cosmos-Transfer1-7B](https://github.com/nvidia-cosmos/cosmos-transfer1/blob/main/examples/inference_cosmos_transfer1_7b.md)\n",
    "- Tested Commit: ed9ab808fb1c4fab04a14ecd7fbccb3e757bd92e"
   ]
  },
  {
   "attachments": {},
   "cell_type": "markdown",
   "id": "845753cc",
   "metadata": {},
   "source": [
    "### Setup Environment and Dependencies\n",
    "---\n",
    "Execute the following commands in a terminal. To open a terminal: Launcher tab -> Other -> Terminal\n",
    "\n",
    "```bash\n",
    "# Go to home directory\n",
    "cd ~\n",
    "\n",
    "# Install uv package manager\n",
    "curl -LsSf https://astral.sh/uv/install.sh | sh\n",
    "source $HOME/.local/bin/env\n",
    "\n",
    "# Login your Huggingface account\n",
    "uv tool install -U \"huggingface_hub[cli]\"\n",
    "hf auth login\n",
    "\n",
    "# Setup docker config, REPLACE <you key> with your NGC Key\n",
    "export NGC_API_KEY=<your Key>\n",
    "echo \"$NGC_API_KEY\" | docker login nvcr.io --username '$oauthtoken' --password-stdin\n",
    "\n",
    "# Create a python virtual environment and install dependencies\n",
    "uv venv\n",
    "source .venv/bin/activate\n",
    "uv pip install loguru\n",
    "uv pip install torch\n",
    "uv pip install huggingface_hub\n",
    "uv pip install ipykernel\n",
    "uv pip install ipywidgets\n",
    "\n",
    "# Create a pyhton kernel for the notebook\n",
    "python -m ipykernel install --user --name=transfer1 --display-name \"Python (.venv) Transfer1\"\n",
    "```"
   ]
  },
  {
   "cell_type": "markdown",
   "id": "2be7cede-a384-40c5-b34f-5ad7f7340aaa",
   "metadata": {},
   "source": [
    "### Switch to the Custom Python Kernel\n",
    "---\n",
    "1. Go back to the notebook: *cosmos-transfer1.ipynb*\n",
    "2. click on the **Python3(ipykernel)** on upper-right corner\n",
    "3. Pick **Python(.venv)Transfer1** in *Start python Kernel* section, then click Select button. (If you don't see the option, try restaring the notebook.)\n",
    "4. The upper-right kernel button should be updated to *Python(.venv)Transfer1*"
   ]
  },
  {
   "cell_type": "markdown",
   "id": "42791d9f",
   "metadata": {},
   "source": [
    "### Create Workspace\n",
    "---\n",
    "Make sure you have at least **360 GB** of free disk space to store data. The following code is for the Crusoe instance use case, you can simply create a /workspace directory if you're not using Crusoe."
   ]
  },
  {
   "cell_type": "code",
   "execution_count": null,
   "id": "51643d1d-481f-48ba-ade2-0564e5206ad8",
   "metadata": {},
   "outputs": [],
   "source": [
    "%%bash\n",
    "\n",
    "# Ensure the target directory exists\n",
    "mkdir -p /ephemeral/workspace\n",
    "# Create the symlink only if it doesn't already exist\n",
    "[ -L ~/workspace ] || ln -s /ephemeral/workspace ~/workspace"
   ]
  },
  {
   "cell_type": "markdown",
   "id": "49e89eb8-19aa-4907-a77c-2d07f6da23e7",
   "metadata": {},
   "source": [
    "### Clone GitHub Repository Which Contains Sample Scripts and Dataset\n",
    "---\n",
    " Change the working directory to **/workspace** for all subsequent notebook cells."
   ]
  },
  {
   "cell_type": "code",
   "execution_count": null,
   "id": "b93b6045-3737-43ec-b0bd-6c43960155d7",
   "metadata": {},
   "outputs": [],
   "source": [
    "%cd ~/workspace"
   ]
  },
  {
   "cell_type": "code",
   "execution_count": null,
   "id": "5fad00c8",
   "metadata": {
    "scrolled": true
   },
   "outputs": [],
   "source": [
    "%%bash\n",
    "\n",
    "# Clone the repository\n",
    "git clone https://github.com/nvidia-cosmos/cosmos-transfer1.git\n",
    "\n",
    "# Switch to the tested commit\n",
    "cd cosmos-transfer1\n",
    "git fetch\n",
    "git checkout ed9ab808fb1c4fab04a14ecd7fbccb3e757bd92e"
   ]
  },
  {
   "cell_type": "markdown",
   "id": "2321343a-014c-4866-bd69-7324017739ea",
   "metadata": {},
   "source": [
    "### Download Model Weights\n",
    "---\n",
    "It takes a while to download 360+ GB data from HuggingFace. You should see this message in the end of the log.\n",
    "```\n",
    "Successfully downloaded google-t5/t5-11b\n",
    "```"
   ]
  },
  {
   "cell_type": "code",
   "execution_count": null,
   "id": "56a1c246",
   "metadata": {
    "scrolled": true
   },
   "outputs": [],
   "source": [
    "# Pull model weights from Huggingface\n",
    "import os\n",
    "import sys\n",
    "\n",
    "project_root = os.path.abspath(\"cosmos-transfer1\")\n",
    "download_script = \"cosmos-transfer1/scripts/download_checkpoints.py\"\n",
    "checkpoint_dir = \"checkpoints/\"\n",
    "\n",
    "!PYTHONPATH={project_root} {sys.executable} {download_script} --output_dir {checkpoint_dir}"
   ]
  },
  {
   "cell_type": "code",
   "execution_count": null,
   "id": "c5980b55-a71a-4dde-a2a3-44f0f25b9663",
   "metadata": {
    "scrolled": true
   },
   "outputs": [],
   "source": [
    "# You should see /ephemera used 363GB of the disk space\n",
    "!df -h"
   ]
  },
  {
   "cell_type": "markdown",
   "id": "c0432b55-ef78-4b6d-ac2b-31fced6f92a1",
   "metadata": {},
   "source": [
    "### Pull Docker Image\n",
    "---\n",
    "Download the Docker image from the internal registry. There should be a publicly accessible image in the future. Make sure you have access to the **nvidian** org.\n",
    "- NGC registry URL: https://registry.ngc.nvidia.com/orgs/nvidian/containers/cosmos-transfer1/tags\n",
    "\n",
    "You can also build your own docker image, it takes about 80 minutes to build.\n",
    "```bash\n",
    "docker build -f Dockerfile . -t nvcr.io/$USER/cosmos-transfer1:latest\n",
    "```"
   ]
  },
  {
   "cell_type": "code",
   "execution_count": null,
   "id": "1e7461ec",
   "metadata": {
    "scrolled": true
   },
   "outputs": [],
   "source": [
    "%%bash\n",
    "docker pull nvcr.io/nvidian/cosmos-transfer1:pytorch-25-04_v2"
   ]
  },
  {
   "cell_type": "markdown",
   "id": "8a8c062c-b710-4caf-bf69-4a93aa0d0300",
   "metadata": {},
   "source": [
    "### Spin Up the Cosmos-Transfer1 Container\n",
    "---"
   ]
  },
  {
   "cell_type": "code",
   "execution_count": null,
   "id": "3ce0c376-ea02-476e-8169-e164591d813a",
   "metadata": {},
   "outputs": [],
   "source": [
    "# Ensure the container stays alive using \"tail -f /dev/null\", so we can interact with it later\n",
    "!docker run --gpus all -d --name cosmos-transfer1 \\\n",
    "    -v ./cosmos-transfer1:/workspace \\\n",
    "    -v ./cosmos-transfer1/assets:/workspace/datasets \\\n",
    "    -v ./checkpoints:/workspace/checkpoints \\\n",
    "    nvcr.io/nvidian/cosmos-transfer1:pytorch-25-04_v2 tail -f /dev/null"
   ]
  },
  {
   "cell_type": "code",
   "execution_count": null,
   "id": "0de685fd-0c98-4bc5-8a9e-38e15e9874de",
   "metadata": {},
   "outputs": [],
   "source": [
    "# Sanity check if the environment setup is successful\n",
    "!docker exec cosmos-transfer1 python scripts/test_environment.py"
   ]
  },
  {
   "cell_type": "markdown",
   "id": "55b7c8ee-0cad-452c-9f46-e0484d611d4d",
   "metadata": {},
   "source": [
    "### Use Case #1: Single Control (Edge)\n",
    "---\n",
    "- VRAM Used: ~30 GB\n",
    "- Inference Time:\n",
    "    - ~20 minutes (A100 x 1)\n",
    "    - ~18 minutes (L40S x 1)\n",
    "\n",
    "Use the default configurations below, or modify the input video path and prompt to update the ControlNet specs."
   ]
  },
  {
   "cell_type": "code",
   "execution_count": null,
   "id": "384bc949-54b6-4c83-a0a7-ff77969d55d3",
   "metadata": {},
   "outputs": [],
   "source": [
    "import json\n",
    "\n",
    "# Input file should be located inside /workspace/cosmos-transfer1/assets to let the container access.\n",
    "# The path is related to /workspace/cosmos-transfer1.\n",
    "input_path = \"assets/example1_input_video.mp4\"\n",
    "\n",
    "# prompt copied from cosmos-transfer1/assets/inference_cosmos_transfer1_single_control_edge.json\n",
    "prompt = \"\"\"The video is set in a modern, well-lit office environment with a sleek, minimalist design.\n",
    "The background features several people working at desks, indicating a busy workplace atmosphere.\n",
    "The main focus is on a robotic interaction at a counter.\n",
    "Two robotic arms, equipped with black gloves, are seen handling a red and white patterned coffee cup with a black lid.\n",
    "The arms are positioned in front of a woman who is standing on the opposite side of the counter.\n",
    "She is wearing a dark vest over a gray long-sleeve shirt and has long dark hair.\n",
    "The robotic arms are articulated and move with precision, suggesting advanced technology.\n",
    "\n",
    "At the beginning, the robotic arms hold the coffee cup securely.\n",
    "As the video progresses, the woman reaches out with her right hand to take the cup.\n",
    "The interaction is smooth, with the robotic arms adjusting their grip to facilitate the handover.\n",
    "The woman's hand approaches the cup, and she grasps it confidently, lifting it from the robotic grip.\n",
    "The camera remains static throughout, focusing on the exchange between the robotic arms and the woman.\n",
    "The setting includes a white countertop with a container holding stir sticks and a potted plant, adding to the modern aesthetic.\n",
    "The video highlights the seamless integration of robotics in everyday tasks, emphasizing efficiency and precision in a contemporary office setting.\n",
    "\"\"\"\n",
    "\n",
    "spec_content = {\n",
    "    \"prompt\": prompt,\n",
    "    \"input_video_path\": input_path,\n",
    "    \"edge\": {\n",
    "        \"control_weight\": 1.0\n",
    "    }\n",
    "}\n",
    "\n",
    "json_path = \"cosmos-transfer1/assets/custom_spec.json\"\n",
    "with open(json_path, 'w') as fd:\n",
    "    json.dump(spec_content, fd, sort_keys=False, indent=4)\n",
    "\n",
    "print(f\"Controlnet spec JSON created: {json_path}\")"
   ]
  },
  {
   "cell_type": "markdown",
   "id": "ce65faf2-fd14-4f55-8c56-4f4dfe4d35ea",
   "metadata": {},
   "source": [
    "Run inference. You should see this message in the end of the log:\n",
    "```bash\n",
    "[08-05 12:47:18|INFO|cosmos_transfer1/diffusion/inference/transfer.py:396:demo] Saved video to outputs/example1_single_control_edge/output.mp4\n",
    "[08-05 12:47:18|INFO|cosmos_transfer1/diffusion/inference/transfer.py:397:demo] Saved prompt to outputs/example1_single_control_edge/output.txt\n",
    "```"
   ]
  },
  {
   "cell_type": "code",
   "execution_count": null,
   "id": "0faed045-d2b3-4f22-af35-556a5f40be8f",
   "metadata": {
    "scrolled": true
   },
   "outputs": [],
   "source": [
    "%%bash\n",
    "\n",
    "docker exec cosmos-transfer1 bash -c \"\n",
    "export CUDA_VISIBLE_DEVICES=\\${CUDA_VISIBLE_DEVICES:=0}\n",
    "export CHECKPOINT_DIR=\\${CHECKPOINT_DIR:=./checkpoints}\n",
    "export NUM_GPU=\\${NUM_GPU:=1}\n",
    "export PYTHONPATH=./\n",
    "torchrun --nproc_per_node=\\$NUM_GPU --nnodes=1 --node_rank=0 cosmos_transfer1/diffusion/inference/transfer.py \\\n",
    "    --checkpoint_dir \\$CHECKPOINT_DIR \\\n",
    "    --video_save_folder outputs/custom_spec \\\n",
    "    --controlnet_specs assets/custom_spec.json \\\n",
    "    --offload_text_encoder_model \\\n",
    "    --offload_guardrail_models \\\n",
    "    --num_gpus \\$NUM_GPU\n",
    "\"\n",
    "# You can review the output files in *workspace/cosmos_transfer1/outputs/custom_spec*."
   ]
  },
  {
   "cell_type": "markdown",
   "id": "da9e36b4-6a7a-4d5f-9f05-2b9fef663867",
   "metadata": {},
   "source": [
    "### Use Case #2 Prompt Upsampler + Single-Step Inference\n",
    "---\n",
    "- VRAM Used: ~30 GB\n",
    "- Inference Time:\n",
    "    - ~5 minutes (L40S x 1)\n",
    "\n",
    "Cosmos-Transfer1 supports a variety of configurations. You can pass your configuration in a JSON file via the arguments.\n",
    "Here are two examples:\n",
    "\n",
    "**--use_distilled**: It allows for single-step inference, reducing the compute resources used.\n",
    "\n",
    "**--upsample_prompt**: It converts your short prompt into a longer, more detailed prompt for video generation."
   ]
  },
  {
   "cell_type": "code",
   "execution_count": null,
   "id": "4718f39f-6d00-4603-9fdc-799cd283519c",
   "metadata": {},
   "outputs": [],
   "source": [
    "import json\n",
    "\n",
    "# Input file should be located inside /workspace/cosmos-transfer1/assets to let the container access.\n",
    "# The path is related to /workspace/cosmos-transfer1.\n",
    "input_path = \"assets/example1_input_video.mp4\"\n",
    "\n",
    "# prompt copied from cosmos-transfer1/assets/inference_cosmos_transfer1_single_control_edge_short_prompt.json\n",
    "prompt = \"\"\"a robotic arm hand over a coffee cup to a woman in a modern office.\n",
    "\"\"\"\n",
    "\n",
    "spec_content = {\n",
    "    \"prompt\": prompt,\n",
    "    \"input_video_path\": input_path,\n",
    "    \"edge\": {\n",
    "        \"control_weight\": 1.0\n",
    "    }\n",
    "}\n",
    "\n",
    "json_path = \"cosmos-transfer1/assets/custom_spec_short_prompt.json\"\n",
    "with open(json_path, 'w') as fd:\n",
    "    json.dump(spec_content, fd, sort_keys=False, indent=4)\n",
    "\n",
    "print(f\"Controlnet spec JSON created: {json_path}\")"
   ]
  },
  {
   "cell_type": "markdown",
   "id": "e3c21968-1e02-447f-a3f9-7ec736d3304f",
   "metadata": {},
   "source": [
    "Run inference."
   ]
  },
  {
   "cell_type": "code",
   "execution_count": null,
   "id": "786a506c-37d9-40a0-9a77-e0b1c286c976",
   "metadata": {
    "scrolled": true
   },
   "outputs": [],
   "source": [
    "%%bash\n",
    "\n",
    "docker exec cosmos-transfer1 bash -c \"\n",
    "export CUDA_VISIBLE_DEVICES=\\${CUDA_VISIBLE_DEVICES:=0}\n",
    "export CHECKPOINT_DIR=\\${CHECKPOINT_DIR:=./checkpoints}\n",
    "export NUM_GPU=\\${NUM_GPU:=1}\n",
    "export PYTHONPATH=/workspace\n",
    "torchrun --nproc_per_node=\\$NUM_GPU --nnodes=1 --node_rank=0 /workspace/cosmos_transfer1/diffusion/inference/transfer.py \\\n",
    "    --checkpoint_dir \\$CHECKPOINT_DIR \\\n",
    "    --video_save_folder outputs/custom_spec_short_prompt \\\n",
    "    --controlnet_specs assets/custom_spec_short_prompt.json \\\n",
    "    --offload_text_encoder_model \\\n",
    "    --upsample_prompt \\\n",
    "    --offload_prompt_upsampler \\\n",
    "    --offload_guardrail_models \\\n",
    "    --num_gpus \\$NUM_GPU \\\n",
    "    --use_distilled\n",
    "\"\n",
    "# You can review the output files in *workspace/cosmos_transfer1/outputs/custom_spec_short_prompt*."
   ]
  },
  {
   "cell_type": "markdown",
   "id": "6a2e7a79-c6aa-4b57-ab1d-e9d73beb641e",
   "metadata": {},
   "source": [
    "For more detailed information and samples, please refer to: [Cosmos-Transfer1: World Generation with Adaptive Multimodal Control](\n",
    "https://github.com/nvidia-cosmos/cosmos-transfer1/blob/main/examples/inference_cosmos_transfer1_7b.md)"
   ]
  },
  {
   "cell_type": "markdown",
   "id": "474ba331-85c5-44ee-bbcb-dff315a855fc",
   "metadata": {},
   "source": [
    "### Stop the Container\n",
    "---"
   ]
  },
  {
   "cell_type": "code",
   "execution_count": null,
   "id": "9c38bd68-a297-4068-b13c-e0e3bb254c82",
   "metadata": {},
   "outputs": [],
   "source": [
    "%%bash\n",
    "docker stop cosmos-transfer1\n",
    "docker rm cosmos-transfer1"
   ]
  }
 ],
 "metadata": {
  "kernelspec": {
   "display_name": "Python (.venv) Transfer1",
   "language": "python",
   "name": "transfer1"
  },
  "language_info": {
   "codemirror_mode": {
    "name": "ipython",
    "version": 3
   },
   "file_extension": ".py",
   "mimetype": "text/x-python",
   "name": "python",
   "nbconvert_exporter": "python",
   "pygments_lexer": "ipython3",
   "version": "3.10.12"
  }
 },
 "nbformat": 4,
 "nbformat_minor": 5
}
